{
 "cells": [
  {
   "cell_type": "markdown",
   "id": "cd6e12b5-5f56-473d-b01b-18b13b7f7e8b",
   "metadata": {},
   "source": [
    "# Class 14: Graph Machine Learning 1\n",
    "\n",
    "## Goals of today's class:\n",
    "1. Understand, at a high level, how to train and evaluate a classifier.\n",
    "2. Implement some classifiers (that don't involve neural networks) on a network dataset.\n",
    "3. Experiment with tweaking classifier type, hyperparameters, and training data size. Reason about how this impacts performance."
   ]
  },
  {
   "cell_type": "markdown",
   "id": "5a73446d-ce0f-4187-981f-cbf9195e67c0",
   "metadata": {},
   "source": [
    "## Today's Dataset\n",
    "The network you're about to look at is a German language network of Twitch streamers. Each node represents a user, and an edge between them means that they have a mutual friendship (so this is an undirected network). We also have some limited data about each user's account. There's a binary classification task for this dataset that involves predicting whether or not a streamer uses explicit language. "
   ]
  },
  {
   "cell_type": "code",
   "execution_count": 7,
   "id": "da5ec6cd-cb33-4731-989f-42d7b0fb60c7",
   "metadata": {},
   "outputs": [],
   "source": [
    "import json\n",
    "import pandas as pd\n",
    "import networkx as nx\n",
    "\n",
    "G = nx.read_edgelist(open('./data/twitch/DE/musae_DE_edges.csv', 'rb'), delimiter=',', nodetype=int) # edges between users\n",
    "# has info about each account plus binary indicators of whether a streamer uses explicit language\n",
    "df_attrs_explicit = pd.read_csv('./data/twitch/DE/musae_DE_target.csv') \n",
    "attrs = {\n",
    "    a['new_id']: {\n",
    "        'days': a['days'], \n",
    "        'views': a['views'], \n",
    "        'partner': a['partner']\n",
    "    } for a in df_attrs_explicit.to_dict(orient=\"records\")\n",
    "}\n",
    "nx.set_node_attributes(G, attrs, name='ml_features')"
   ]
  },
  {
   "cell_type": "markdown",
   "id": "32279b83-ba1e-4e7a-be80-314fc5d2a659",
   "metadata": {},
   "source": [
    "## Basic ML Principles\n",
    "\n",
    "Machine learning basically involves building algorithms that can learn things from data and make generalizations to new data. \n",
    "Supervised machine learning is the practice of building a model when we have training data -- the information that we use to inform our model how the world works -- that has correct ground truth answers. When you're building a linear regression or a Naive Bayes classifier (for example), you're doing supervised machine learning. \n",
    "\n",
    "In contrast, unsupervised machine learning (which we won't be doing much of today) is useful when we don't have access to exact ground truths about desired outcomes, but we have to build insights with our dataset anyway. When we do unsupervised ML, we figure out what patterns are present in unlabeled data. Clustering is one type of unsupervised machine learning technique; when we cluster a dataset, we're learning to recognize similar kinds of data points. Generating new examples is also (kind of) an unsupervised ML task. Training GPT and its ilk to produce language requires massive amounts of scraped text that doesn't have \"answers\" attached to it per se. Humans aren't going through and labeling the terabytes of data that GPT is trained on (before it is fine-tuned for specific tasks). Instead, at a high level, GPT and friends are trained to produce text that we can't tell comes from a computer -- it should \"look like\" the text that showed up in the massive amounts of data it was trained on. Once GPT has been trained in this fashion, it is also fine-tuned for specific tasks -- this is where human labeling and direction do come in.\n",
    "\n",
    "Today, when we talk about doing machine learning we're going to mostly focus on supervised ML, specifically *binary classification*. Binary classification involves learning to answer a yes-or-no question about new data points after optimizing a model's parameters using a set of data points with established answers. \n",
    "\n",
    "### Train/Test Splits\n",
    "Training models requires training data and test data at minimum. Our training data is what the model learns patterns from, and the test data tells us how well the model does on data it hasn't seen before. \n",
    "\n",
    "**If we were to test on the same data we trained on, what could potentially happen?**\n",
    "\n",
    "----------------\n",
    "Spoiler: This is called **overfitting**. A lot of the time, when we train a model we're worried about this happening. Overfitting happens when your model learns the data it's trained on too well -- it's too accustomed to the training data and doesn't generalize well to new data. We might have too many parameters in our model, such that it's able to memorize the quirks of the training set too well, or we might've selected our training set improperly.\n",
    "\n",
    "I once saw an example from a talk about explainability where scientists trained a model to guess where a Google StreetView photo was taken; it did really well on images taken at the same time as other images in the training set and really poorly on images taken at a later date. Turns out that the model was memorizing how windshield smudges changed over time and correlated the state of the windshield smudges to the car's location. So when the smudges changed (but the landscape didn't), the model was not able to identify the locations anymore. \n",
    "\n",
    "When we construct training and testing sets, we need to make sure the data that we use for training has similar patterns to the test data while keeping the training and testing sets strictly separate from each other. We usually accomplish this by randomly splitting the dataset into two distinct parts. In this case, we'll be using `sklearn`, also known as `scikit-learn`, which is a general-purpose machine learning library for Python. `sklearn` has a handy function called `train_test_split` that we can use to generate a training set and test set that are randomly selected. We can also set the `random_seed` parameter to be a fixed number; this will ensure that we get the same train/test split every time. "
   ]
  },
  {
   "cell_type": "code",
   "execution_count": 10,
   "id": "9054d11d-abd1-44b9-bc52-edead274ed84",
   "metadata": {},
   "outputs": [
    {
     "name": "stdout",
     "output_type": "stream",
     "text": [
      "The training set length is 6648 and the test set length is 2850\n"
     ]
    }
   ],
   "source": [
    "from sklearn.model_selection import train_test_split\n",
    "df_attrs_explicit = df_attrs_explicit.fillna(0.0)\n",
    "explicit_train, explicit_test = train_test_split(df_attrs_explicit, test_size=0.3, random_state=42)\n",
    "print('The training set length is', len(explicit_train), 'and the test set length is', len(explicit_test))"
   ]
  },
  {
   "cell_type": "markdown",
   "id": "bf882968-634c-407e-8013-f0de13adbdab",
   "metadata": {},
   "source": [
    "### Measuring How Well We Do\n",
    "The next thing we have to think about, once we've trained our model, is evaluating how well it performs on held-out data (i.e. the test set). For a binary classifier, we can define four kinds of events that might occur:\n",
    "|      | True Value: 1      | True Value: 0   |\n",
    "| ------------| --------------- | --------- |\n",
    "| Predicted Value: 1 | True Positive (TP) | False Positive (FP) |\n",
    "| Predicted Value: 0 | False Negative (FN) | True Negative (TN) |\n",
    "\n",
    "There are a few ways we can measure how well a binary classifier does, and sometimes we need to look at several measures in order to get a full picture of itss performance.\n",
    "\n",
    "| Measure     | Definition      | Formula   |\n",
    "| ------------| --------------- | --------- |\n",
    "| Accuracy | How often do we get it right?  | $\\frac{TP + TN}{TP + FP + TN + FN}$ |\n",
    "| Recall | How many true positives do we detect out of all positive examples? | $\\frac{TP}{TP + FN}$ |\n",
    "| Precision| How many of our positive classifications are truly positive? | $\\frac{TP}{TP + FP}$ | \n",
    "| F1 Score | Harmonic mean of precision and recall | $\\frac{2TP}{2TP + FP + FN}$ |\n",
    "\n",
    "Let's try a toy example using the dataframe with user attributes and explicit language usage. `sklearn` has a lot of classifiers; right now we're going to try using a [random forest classifier](https://scikit-learn.org/stable/modules/generated/sklearn.ensemble.RandomForestClassifier.html). Random forest classifiers consist of many [decision tree classifiers](https://en.wikipedia.org/wiki/Decision_tree_learning), each of which is trained on a different subset of the training dataset. Broadly speaking, decision tree classifiers learn decision rules from the data; they can be very complicated, but you can also force them to limit their breadth or depth. The average prediction output by all the decision trees for a particular data point is the random forest classifier's final output. "
   ]
  },
  {
   "cell_type": "code",
   "execution_count": 14,
   "id": "24376305-bc4a-4dee-9291-d5ba99cfd013",
   "metadata": {},
   "outputs": [],
   "source": [
    "from sklearn.ensemble import RandomForestClassifier\n",
    "TRAIN_COLS = set(['days', 'views', 'partner'])\n",
    "explicit_train_x = explicit_train[[c for c in explicit_train.columns if c in TRAIN_COLS]].to_numpy()\n",
    "explicit_test_x = explicit_test[[c for c in explicit_test.columns if c in TRAIN_COLS]].to_numpy()\n",
    "\n",
    "explicit_train_y = explicit_train['mature'].to_numpy()\n",
    "explicit_test_y = explicit_test['mature'].to_numpy()\n",
    "\n",
    "clf = RandomForestClassifier(criterion='log_loss')\n",
    "clf.fit(explicit_train_x, explicit_train_y.ravel())\n",
    "preds = clf.predict(explicit_test_x)\n"
   ]
  },
  {
   "cell_type": "code",
   "execution_count": 15,
   "id": "ebc4091b-1c89-4db9-a71b-281d180e13a8",
   "metadata": {},
   "outputs": [
    {
     "name": "stdout",
     "output_type": "stream",
     "text": [
      "accuracy score: 0.5807017543859649\n",
      "precision: 0.6466450216450217\n",
      "recall: 0.6879677605066206\n",
      "F1: 0.6666666666666666\n",
      "\n",
      "Rate of True Negatives Correctly Identified: 0.4132973944294699\n",
      "False Positives Out of All Negative Labels (false alarm rate): 0.5867026055705301\n",
      "False Negatives Out of All Positive Labels (failure to detect): 0.3120322394933794\n"
     ]
    }
   ],
   "source": [
    "from sklearn.metrics import accuracy_score, precision_score, recall_score, f1_score, confusion_matrix\n",
    "import matplotlib.pyplot as plt\n",
    "\n",
    "print('accuracy score:', accuracy_score(explicit_test_y, preds))\n",
    "print('precision:', precision_score(explicit_test_y, preds))\n",
    "print('recall:', recall_score(explicit_test_y, preds))\n",
    "print('F1:', f1_score(explicit_test_y, preds))\n",
    "tn, fp, fn, tp = confusion_matrix(explicit_test_y, preds).ravel().tolist()\n",
    "print()\n",
    "print('Rate of True Negatives Correctly Identified:', tn / (tn + fp))\n",
    "print('False Positives Out of All Negative Labels (false alarm rate):', fp / (fp + tn))\n",
    "print('False Negatives Out of All Positive Labels (failure to detect):', fn / (fn + tp))"
   ]
  },
  {
   "cell_type": "markdown",
   "id": "fc1ab6c5-7502-4074-b395-8784067b99fc",
   "metadata": {},
   "source": [
    "### Hyperparameters\n",
    "Let's see if we can tweak our decision tree classifier a bit. When we talk about **hyperparameters** in machine learning, we're referring to the parameters that govern a model's behavior, not the parameters that the model learns itself in order to fit the data. For a decision tree, we might control its depth or the maximum number of leaf nodes it's allowed to make. When we are working with a classifier to figure out the best hyperparameters, we still don't want to use our test set to see how well we're doing when we change hyperparameters. Instead, we'll add another split to the dataset, known as the **validation set**. We use the validation set to see how well we perform on data we didn't see in training; this lets us tune our hyperparameters effectively before we see how well our final model performs on the test set.  \n",
    "\n",
    "When we're tweaking a model's hyperparameters, we usually split our data into 3 sets -- training, validation, and test. We use our **training** set to train the model; the **validation** set is used to figure out which choice of hyperparameters (like learning rate, optimizer, network size, etc.) works best for the dataset & model; and the **testing** set is for figuring out how well the finalized model does. The model **never** trains on the validation or testing data - it only updates itself based on the training data. A good rule of thumb is to use 10-15% of data for validation, 15-20% of the data for testing, and the rest for training. You should randomly split up your data such that the training, testing, and validation sets have similar distributions. "
   ]
  },
  {
   "cell_type": "code",
   "execution_count": 16,
   "id": "b18fa60c-a228-4518-b3a4-88c56c0c4f4c",
   "metadata": {},
   "outputs": [
    {
     "data": {
      "text/plain": [
       "Text(0, 0.5, 'Score')"
      ]
     },
     "execution_count": 16,
     "metadata": {},
     "output_type": "execute_result"
    },
    {
     "data": {
      "image/png": "[encoded data removed]",
      "text/plain": [
       "<Figure size 640x480 with 1 Axes>"
      ]
     },
     "metadata": {},
     "output_type": "display_data"
    }
   ],
   "source": [
    "import numpy as np\n",
    "explicit_train, explicit_val = train_test_split(df_attrs_explicit, test_size=0.3, random_state=42)\n",
    "explicit_train_x = explicit_train[[c for c in explicit_train.columns if c in TRAIN_COLS]].to_numpy()\n",
    "explicit_val_x = explicit_val[[c for c in explicit_val.columns if c in TRAIN_COLS]].to_numpy()\n",
    "\n",
    "explicit_train_y = explicit_train['mature'].to_numpy()\n",
    "explicit_val_y = explicit_val['mature'].to_numpy()\n",
    "\n",
    "accuracies = []\n",
    "f1s = []\n",
    "false_alarms = []\n",
    "failed_detections = []\n",
    "for depth in range(2, 15):\n",
    "    clf = RandomForestClassifier(max_depth=depth)\n",
    "    clf.fit(explicit_train_x, explicit_train_y.ravel())\n",
    "    preds = clf.predict(explicit_val_x)\n",
    "    accuracies.append(accuracy_score(explicit_val_y, preds))\n",
    "    f1s.append(f1_score(explicit_val_y, preds))\n",
    "    tn, fp, fn, tp = confusion_matrix(explicit_val_y, preds).ravel().tolist()\n",
    "    false_alarms.append(fp / (fp + tn))\n",
    "    failed_detections.append(fn / (fn + tp))\n",
    "    \n",
    "plt.scatter([i for i in range(2, 15)], accuracies, color='blue', label='Accuracy (higher better)')\n",
    "plt.scatter([i for i in range(2, 15)], f1s, color='orange', label='F1 Score (higher better)')\n",
    "plt.scatter([i for i in range(2, 15)], false_alarms, color='magenta', label='False Positive Rate (lower better)')\n",
    "plt.scatter([i for i in range(2, 15)], failed_detections, color='lime', label='False Negative Rate (lower better)')\n",
    "plt.plot([2, 15], [np.mean(explicit_val_y), np.mean(explicit_val_y)], linestyle=':', label='Positive Rate')\n",
    "plt.legend()\n",
    "plt.title('Tree Depth Vs Performance Metrics')\n",
    "plt.xlabel('Maximum Decision Tree Depth')\n",
    "plt.ylabel('Score')"
   ]
  },
  {
   "cell_type": "markdown",
   "id": "dfa9fab4-e53a-41bf-9d0d-91081b9e1a11",
   "metadata": {},
   "source": [
    "As you can see, we are doing only marginally better than random guessing right now. \n",
    "\n",
    "**What does that mean about how useful our classifier is?**\n",
    "\n",
    "Let's see what happens when we incorporate information about the network into our classification. "
   ]
  },
  {
   "cell_type": "markdown",
   "id": "f89680fb-de2a-48e2-b52a-5193d5a68e2f",
   "metadata": {},
   "source": [
    "## Collective Classification\n",
    "When we do collective classification, we have two variables: a graph $G$ and a node $v \\in G$ that we want to label (classify). Some of $v$'s neighbors are labeled, and some are not. In this setting, we can classify $v$ based on any subset of the following:\n",
    "1. The correlation between $v$'s label and its observed attributes (this is what we just tried!)\n",
    "2. The correlation between $v$'s label and its neighbors' known labels and observed attributes\n",
    "3. The correlation between $v$'s label and its unlabeled neighbors' unknown labels.\n",
    "\n",
    "A lot of the collective classification methods discussed [here](https://onlinelibrary.wiley.com/doi/10.1609/) (paper coauthored by our very own Dr. Tina Eliassi-Rad) involve horrifying amounts of statistical inference, which is beyond the scope of this class. However, one of the methods discussed there, *iterative classification*, is fairly tractable. Let's take a look!\n",
    "\n",
    "### Iterative Classification\n",
    "First, you choose a local classifier, $f$, that can be used to determine the label of a node given the labels (seen & unseen) of its neighbors. Tina calls this “guilt by association”. Your local classifier $f$ can give you a label outright, or it can give you a probability distribution over labels (in which case you pick the label that gives you the best value). Since real-world networks notably do not have fixed degree, but most classifiers assume fixed-length feature vectors, we can’t just feed an arbitrary-length vector into any function $f$. Instead, we have to come up with some sort of pooling function, like MAX, COUNT, MEAN, SUM, etc. and pool the labels in some pre-determined way.\n",
    "\n",
    "We then move on to the actual labeling business. First, we do a “bootstrapping” step – we label each node using our incomplete information, giving it our best guess. Next, we do the iterative classification process. Each time, we generate a new ordering\n",
    "O of nodes, then we go through and label each node according to what its neighbors are currently labeled as, using $f$. We do this a bunch of times until the labels stop changing or we’ve gone through a pre-determined number of iterations, after which we should give up."
   ]
  },
  {
   "cell_type": "code",
   "execution_count": 20,
   "id": "2f43c68b-01dc-4f1a-a166-9f9587cc95b1",
   "metadata": {},
   "outputs": [],
   "source": [
    "explicit_train_ic, explicit_test_ic = train_test_split(df_attrs_explicit, test_size=0.5, random_state=42)\n",
    "map_train = {user: mature for user, mature in zip(explicit_train_ic['new_id'], explicit_train_ic['mature'])}\n",
    "map_test = {user: mature for user, mature in zip(explicit_test_ic['new_id'], explicit_test_ic['mature'])}\n",
    "\n",
    "def local_classifier(neighbor_labels):\n",
    "    \"\"\"\n",
    "    Given a list of neighbor labels, return True if there are at least 4 True values in the list.\n",
    "    \"\"\"\n",
    "    return np.sum(neighbor_labels) >= 4\n",
    "\n",
    "def iterative_classification(G, map_train, map_test, local_classifier=local_classifier, max_iter=20):\n",
    "    \"\"\"\n",
    "    Perform the iterative classification algorithm on the network G given split train and test sets.\n",
    "\n",
    "    Inputs:\n",
    "    G: networkx graph object; should have the same nodes as the keys in map_train and map_test combined.\n",
    "    map_train and map_test: dicts; mappings from the nodes in the train & test sets to their binary classification ground truth.\n",
    "    local_classifier: function that takes in a list of boolean values and returns a single boolean value\n",
    "    max_iter: denotes how many iterations to do before stopping (if no convergence occurs).\n",
    "\n",
    "    Returns:\n",
    "    labels: mapping over the entire dataset (with labels from map_train preserved) from nodes to their binary classification.\n",
    "    \"\"\"\n",
    "    labels = {v: 0 for v in map_test.keys()}\n",
    "    for node in map_test.keys():\n",
    "        neighbors = G.neighbors(node)\n",
    "        neighbor_labels = [map_train[n] for n in neighbors if n in map_train]\n",
    "        labels[node] = local_classifier(neighbor_labels)\n",
    "        \n",
    "    labels = labels | map_train\n",
    "    n_iter = 0\n",
    "    nodes_list = [k for k in map_test.keys()]\n",
    "    while n_iter < max_iter:\n",
    "        prev_labels = labels.copy()\n",
    "        np.random.shuffle(nodes_list)\n",
    "        for node in nodes_list:\n",
    "            neighbors = G.neighbors(node)\n",
    "            neighbor_labels = [prev_labels[n] for n in neighbors]\n",
    "            labels[node] = local_classifier(neighbor_labels)\n",
    "        if labels == prev_labels:\n",
    "            return labels\n",
    "        n_iter += 1\n",
    "    return labels\n",
    "\n",
    "labels = iterative_classification(G, map_train, map_test, local_classifier=local_classifier, max_iter=20)\n",
    "\n",
    "ground_truth = []\n",
    "preds = []\n",
    "for k, v in map_test.items():\n",
    "    preds.append(labels[k])\n",
    "    ground_truth.append(v)\n",
    "\n"
   ]
  },
  {
   "cell_type": "code",
   "execution_count": 21,
   "id": "fc796c74-bcbb-4296-960e-4133dab25219",
   "metadata": {},
   "outputs": [
    {
     "name": "stdout",
     "output_type": "stream",
     "text": [
      "accuracy score: 0.6390819119814698\n",
      "precision: 0.6576116191500807\n",
      "recall: 0.8471933471933472\n",
      "F1: 0.7404603270745003\n",
      "\n",
      "Rate of True Negatives Correctly Identified: 0.3166935050993022\n",
      "False Positives Out of All Negative Labels (false alarm rate): 0.6833064949006978\n",
      "False Negatives Out of All Positive Labels (failure to detect): 0.15280665280665282\n"
     ]
    }
   ],
   "source": [
    "print('accuracy score:', accuracy_score(ground_truth, preds))\n",
    "print('precision:', precision_score(ground_truth, preds))\n",
    "print('recall:', recall_score(ground_truth, preds))\n",
    "print('F1:', f1_score(ground_truth, preds))\n",
    "tn, fp, fn, tp = confusion_matrix(ground_truth, preds).ravel().tolist()\n",
    "print()\n",
    "print('Rate of True Negatives Correctly Identified:', tn / (tn + fp))\n",
    "print('False Positives Out of All Negative Labels (false alarm rate):', fp / (fp + tn))\n",
    "print('False Negatives Out of All Positive Labels (failure to detect):', fn / (fn + tp))"
   ]
  },
  {
   "cell_type": "markdown",
   "id": "1ab13d51-8da2-4740-bc0f-33ebbc32654f",
   "metadata": {},
   "source": [
    "### Your Turn!\n",
    "Can you toy with the `local_classifier` function to produce better performance with this classification algorithm?"
   ]
  },
  {
   "cell_type": "markdown",
   "id": "6b0449de-87a3-4d88-a152-9c76fab26313",
   "metadata": {},
   "source": [
    "## Link Prediction\n",
    "Next, we're going to learn about predicting the existence of missing links (or links that will be formed at the next time step) in a graph, also known as *link prediction*. For a more comprehensive overview of link prediction, check out [this survey article](http://dx.doi.org/10.1145/3012704) by Martinez et al., which this section draws from quite a bit. Many link prediction tasks are formulated as a ranking problem, where all pairs of nodes that aren't connected yet get a score that is proportional to the likelihood of a link forming between them. Then we usually choose a threshold, above which we predict a link will exist. We can also view link prediction as a binary classification problem; today we will explore both points of view. \n",
    "\n",
    "### Similarity-Based Methods\n",
    "Homophily refers to the tendency of similar nodes to be connected to each other. Not all networks are completely homophilous on all dimensions (think dating networks, for example), but many are. Similarity-based methods operate on the assumption that the more similar a pair of nodes is, the more likely they are to be connected to each other. We can define similarity in many different ways, but in general, we choose a similarity measure, rank candidate node pairs by their similarity, and then pick a threshold above which we say we will predict a link exists. \n",
    "\n",
    "#### A Limited Whirlwind Tour of Similarity Measures\n",
    "In this table, we've laid out some of the more commonly used similarity measures. Some of them are based on local structural information about a node's neighborhood (\"Local\"); others use global approaches, usually involving paths between two nodes or random walks, to determine similarity (\"Global\"); there are also approaches that mix the two, considering more topological information than strictly local measures while still being relatively fast to compute (\"Quasi-Local\". Today we'll focus on local measures of similarity; for a node pair $(u, v)$, we will define the similarity for a number of measures. \n",
    "\n",
    "| Similarity Measure     |  Definition      | Formula  |\n",
    "| ------------| --------------- | --------- |\n",
    "| Common Neighbors | How many neighbors do $u$ and $v$ have in common? | $|N(u) \\cap N(v)|$ |\n",
    "| Adamic-Adar Index | Common neighbors but normalized by neighbors' degree| $\\sum\\limits_{w \\in N(u) \\cap N(v)} \\frac{1}{|N(w)|}$ |\n",
    "| Preferential Attachment Index| Product of nodes' number of neighbors | $|N(u)| |N(v)|$ | \n",
    "| Jaccard Index  | Ratio of shared neighbors to total number of neighbors | $\\frac{|N(u) \\cap N(v)|}{|N(u) \\cup N(v)|}$ |\n",
    "\n",
    "**What are some other ways we could measure similarity/proximity in the network, perhaps looking at paths between nodes?**"
   ]
  },
  {
   "cell_type": "code",
   "execution_count": 278,
   "id": "ebb60f7e-2e7d-4362-a6dc-d592a78a56aa",
   "metadata": {},
   "outputs": [],
   "source": [
    "import itertools\n",
    "import random\n",
    "\n",
    "# make a train/test split of edges in the graph; we'll remove 1/4 of all edges to start.\n",
    "edges = [e for e in G.edges]\n",
    "edges_train, edges_test = train_test_split(edges, test_size=0.25, random_state=42)\n",
    "\n",
    "# get nodes that don't show up in the training set\n",
    "nodes_in_train = set([node for pair in edges_train for node in pair])\n",
    "nodes_in_test = set([node for pair in edges_test for node in pair])\n",
    "node_not_in_G = nodes_in_test - nodes_in_train \n",
    "\n",
    "# construct a graph with just the known (i.e. training) edges\n",
    "G_train = nx.from_edgelist(edges_train)\n",
    "# make sure we have all the nodes in the original graph in case we're missing some in the set of training edges.\n",
    "G_train.add_nodes_from(list(node_not_in_G)) \n",
    "\n",
    "def generate_sample_negative_edges(G, edges_test, multiplier=2.1):\n",
    "    \"\"\"\n",
    "    Given a graph G and a test set of edges that will be predicted, \n",
    "    produce a list of edges that don't exist in G OR in the test set.\n",
    "\n",
    "    Parameters:\n",
    "      G: networkx graph object; contains only edges from a training set (i.e. it's a masked version of an original graph)\n",
    "      edges_test: the edges missing from the original graph that are not present in G\n",
    "      multiplier: very approximately multiply the number of test edges by this to express the desired quantity of negative examples.\n",
    "\n",
    "    Returns:\n",
    "      list of candidate edges that don't exist in G OR in edges_test \n",
    "      (negative examples for a link prediction strategy to be evaluated on).\n",
    "    \"\"\"\n",
    "    nodes = [n for n in G.nodes]\n",
    "    edge_set = set([e for e in G.edges]).union(set(edges_test))\n",
    "    combos = [c for c in itertools.combinations(nodes, 2)]\n",
    "    candidates = random.sample(combos, int(len(edges_train) * multiplier))\n",
    "    return [c for c in candidates if c not in edge_set]\n",
    "\n",
    "# make some fake edges\n",
    "candidate_edges = generate_sample_negative_edges(G_train, edges_test)\n",
    "# run adamic adar index on a limited subset of negative & positive candidate edges\n",
    "similarities = nx.adamic_adar_index(G_train, candidate_edges + edges_test) \n",
    "# rank edges by their similarity scores\n",
    "similarities = sorted(similarities, key=lambda b: b[2], reverse=True) "
   ]
  },
  {
   "cell_type": "code",
   "execution_count": 282,
   "id": "30d90140-ab64-436b-bfd4-ff2454facd13",
   "metadata": {},
   "outputs": [
    {
     "data": {
      "text/plain": [
       "Text(0, 0.5, 'Precision/Recall (higher is better)')"
      ]
     },
     "execution_count": 282,
     "metadata": {},
     "output_type": "execute_result"
    },
    {
     "data": {
      "image/png": "[encoded data removed]",
      "text/plain": [
       "<Figure size 640x480 with 1 Axes>"
      ]
     },
     "metadata": {},
     "output_type": "display_data"
    }
   ],
   "source": [
    "log_max_similarity = np.log(int(max([s[2] for s in similarities]))) # similarity is roughly distributed on a log scale\n",
    "set_edges_test = set(edges_test)\n",
    "\n",
    "# evaluating precision & recall at different threshold values\n",
    "precisions = []\n",
    "recalls = []\n",
    "for threshold in np.arange(-5, log_max_similarity, 0.5):\n",
    "    # edges w/ similarity above the assigned threshold; contains all true & false positives\n",
    "    edges_above = set([(s[0], s[1]) for s in similarities if s[2] > np.exp(threshold)]) \n",
    "    # edges w/ similarity at or below the assigned threshold; contains all true & false negatives\n",
    "    edges_below = set([(s[0], s[1]) for s in similarities if s[2] <= np.exp(threshold)])\n",
    "    \n",
    "    true_pos = len(set_edges_test.intersection(edges_above)) # number of true positives\n",
    "    false_neg = len(set_edges_test.intersection(edges_below)) # number of false negatives\n",
    "    precisions.append(true_pos / len(edges_above)) \n",
    "    recalls.append(true_pos / (true_pos + false_neg))\n",
    "\n",
    "# plots precision and recall at various thresholds\n",
    "plt.title('Link Prediction Threshold vs Precision and Recall ')\n",
    "plt.scatter(np.arange(-5, log_max_similarity, 0.5), precisions, label='precision')\n",
    "plt.scatter(np.arange(-5, log_max_similarity, 0.5), recalls, label='recall')\n",
    "plt.legend()\n",
    "plt.xlabel('Link Prediction Threshold (log scale)')\n",
    "plt.ylabel('Precision/Recall (higher is better)')\n",
    "                    "
   ]
  },
  {
   "cell_type": "markdown",
   "id": "e8914c5c-0bc9-4d89-b033-e00370cc75fd",
   "metadata": {},
   "source": [
    "#### For Discussion:\n",
    "* Based on this plot, what would you choose as the approximate threshold? Why?\n",
    "* Why do you think we see the trends that we see (high threshold = terrible recall; low threshold = bad precision)?\n",
    "* Would this task get harder if we looked at all possible links (i.e. all links that didn't exist in the training graph)?"
   ]
  },
  {
   "cell_type": "markdown",
   "id": "269926b8-28ce-40bc-9547-47a855691c95",
   "metadata": {},
   "source": [
    "### Classifier-Based Methods\n",
    "We can also use binary classifiers for link prediction. In this case, we treat our examples more independently (i.e. without ranking). We can use node features, information about network topology, and even the similarity measures we just used. Discussing the various binary classifiers that exist is beyond the scope of this lesson, but we will try out a random forest classifier on our dataset that incorporates the 4 similarity measures we just discussed. \n"
   ]
  },
  {
   "cell_type": "code",
   "execution_count": 293,
   "id": "bfcd99d4-d98e-4438-b407-b1cc7c0b1219",
   "metadata": {},
   "outputs": [],
   "source": [
    "# make some fake edges\n",
    "candidate_edges_train = generate_sample_negative_edges(G_train, edges_test)\n",
    "candidate_edges_test = generate_sample_negative_edges(G_train, edges_test + candidate_edges_train)\n",
    "\n",
    "# create similarity measures for training data\n",
    "adamic_adar_train = nx.adamic_adar_index(G_train, candidate_edges_train + edges_train) \n",
    "jaccard_train  = nx.jaccard_coefficient(G_train, candidate_edges_train + edges_train)\n",
    "pref_attachment_train = nx.preferential_attachment(G_train, candidate_edges_train + edges_train)\n",
    "common_neighbors_train = [(e[0], e[1], len(nx.common_neighbors(G_train, e[0], e[1]))) for e in candidate_edges_train + edges_train]\n",
    "\n",
    "# create similarity measures for test data\n",
    "adamic_adar_test = nx.adamic_adar_index(G_train, candidate_edges_test + edges_test) \n",
    "jaccard_test  = nx.jaccard_coefficient(G_train, candidate_edges_test + edges_test)\n",
    "pref_attachment_test = nx.preferential_attachment(G_train, candidate_edges_test + edges_test)\n",
    "common_neighbors_test = [(e[0], e[1], len(nx.common_neighbors(G_train, e[0], e[1]))) for e in candidate_edges_test + edges_test]\n",
    "\n"
   ]
  },
  {
   "cell_type": "code",
   "execution_count": 294,
   "id": "664d7978-1e49-449c-a87d-ba9558c85d0d",
   "metadata": {},
   "outputs": [],
   "source": [
    "# build numpy matrices of the similarity measures\n",
    "x_train = np.array(\n",
    "    [[t[-1] for t in arr] \n",
    "     for arr in [adamic_adar_train, jaccard_train, pref_attachment_train, common_neighbors_train]\n",
    "    ]\n",
    ")\n",
    "y_train = np.hstack((np.zeros(len(candidate_edges_train)), np.ones(len(edges_train))))\n",
    "x_test = np.array(\n",
    "    [[t[-1] for t in arr] \n",
    "     for arr in [adamic_adar_test, jaccard_test, pref_attachment_test, common_neighbors_test]\n",
    "    ]\n",
    ")\n",
    "y_test = np.hstack((np.zeros(len(candidate_edges_test)), np.ones(len(edges_test))))\n"
   ]
  },
  {
   "cell_type": "code",
   "execution_count": 300,
   "id": "b6d519ef-4f42-44c5-9b4a-9cd3f8f9d94b",
   "metadata": {},
   "outputs": [],
   "source": [
    "# create a random forest classifier; fit it to the training data & predict for the test data.\n",
    "clf = RandomForestClassifier(criterion='log_loss')\n",
    "clf.fit(x_train.T, y_train)\n",
    "preds = clf.predict(x_test.T)"
   ]
  },
  {
   "cell_type": "markdown",
   "id": "e5b6b103-e941-4e55-90e9-1a6c32c6125b",
   "metadata": {},
   "source": [
    "Briefly, how well did we do? "
   ]
  },
  {
   "cell_type": "code",
   "execution_count": 301,
   "id": "4c957c84-a608-4886-9419-2258d2850918",
   "metadata": {},
   "outputs": [
    {
     "name": "stdout",
     "output_type": "stream",
     "text": [
      "accuracy score: 0.9089123328059052\n",
      "precision: 0.6442523001884491\n",
      "recall: 0.759017892124853\n",
      "F1: 0.6969420793860175\n"
     ]
    }
   ],
   "source": [
    "print('accuracy score:', accuracy_score(y_test, preds))\n",
    "print('precision:', precision_score(y_test, preds))\n",
    "print('recall:', recall_score(y_test, preds))\n",
    "print('F1:', f1_score(y_test, preds))"
   ]
  },
  {
   "cell_type": "markdown",
   "id": "865b72b4-c0a1-4469-b433-7d686f7fd727",
   "metadata": {},
   "source": [
    "## Freeform Experimentation!\n",
    "For the remainder of the class period, pick a question you'd like to answer with respect to link prediction, and write code to answer it.\n",
    "\n",
    "Here are some examples:\n",
    "* How does classifier performance change as the ratio of negative to positive examples increases?\n",
    "* Which kinds of classifiers in the [sklearn binary classification pantheon](https://scikit-learn.org/stable/auto_examples/classification/plot_classifier_comparison.html) perform better for link prediction?\n",
    "* What happens if we add in new [similarity measures](https://networkx.org/documentation/stable/reference/algorithms/similarity.html) to the code from the previous example? What if we remove some similarity measures?\n",
    "* What if we drastically change the prevalence of negative examples in the training set relative to the prevalence in the test set?"
   ]
  },
  {
   "cell_type": "code",
   "execution_count": 302,
   "id": "258fda33-b13d-45b6-bc54-6ed738d9e61b",
   "metadata": {},
   "outputs": [],
   "source": [
    "# Your Turn!"
   ]
  },
  {
   "cell_type": "code",
   "execution_count": null,
   "id": "f886c224-e5f8-4ea4-bc6d-3cadffcdef22",
   "metadata": {},
   "outputs": [],
   "source": []
  }
 ],
 "metadata": {
  "kernelspec": {
   "display_name": "Python 3 (ipykernel)",
   "language": "python",
   "name": "python3"
  },
  "language_info": {
   "codemirror_mode": {
    "name": "ipython",
    "version": 3
   },
   "file_extension": ".py",
   "mimetype": "text/x-python",
   "name": "python",
   "nbconvert_exporter": "python",
   "pygments_lexer": "ipython3",
   "version": "3.13.5"
  }
 },
 "nbformat": 4,
 "nbformat_minor": 5
}
