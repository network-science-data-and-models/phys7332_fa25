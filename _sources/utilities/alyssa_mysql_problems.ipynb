{
 "cells": [
  {
   "cell_type": "code",
   "execution_count": 4,
   "id": "0ddb985a-6020-442d-a688-17e60b2d9b04",
   "metadata": {},
   "outputs": [],
   "source": [
    "import pymysql\n",
    "import pymysql.cursors\n",
    "import pandas as pd\n",
    "\n",
    "my_creds = []\n",
    "with open('/courses/PHYS7332.202610/staff/admin_mysql_credentials.txt', 'r') as f:\n",
    "    for line in f.readlines():\n",
    "        my_creds.append(line.strip())\n",
    "        \n",
    "connection = pymysql.connect(host='mysql-0005',\n",
    "                             user=my_creds[0],\n",
    "                             database='PHYS7332',\n",
    "                             password=my_creds[1],\n",
    "                             charset='utf8mb4',\n",
    "                             cursorclass=pymysql.cursors.DictCursor)"
   ]
  },
  {
   "cell_type": "code",
   "execution_count": 5,
   "id": "00badc68-2a91-4dfd-a230-4290cdae4456",
   "metadata": {},
   "outputs": [
    {
     "ename": "OperationalError",
     "evalue": "(1050, \"Table 'fla_species' already exists\")",
     "output_type": "error",
     "traceback": [
      "\u001b[0;31m---------------------------------------------------------------------------\u001b[0m",
      "\u001b[0;31mOperationalError\u001b[0m                          Traceback (most recent call last)",
      "Cell \u001b[0;32mIn[5], line 11\u001b[0m\n\u001b[1;32m      2\u001b[0m \u001b[38;5;28;01mwith\u001b[39;00m connection\u001b[38;5;241m.\u001b[39mcursor() \u001b[38;5;28;01mas\u001b[39;00m cursor:\n\u001b[1;32m      3\u001b[0m     sql \u001b[38;5;241m=\u001b[39m \u001b[38;5;124m\"\"\"\u001b[39m\n\u001b[1;32m      4\u001b[0m \u001b[38;5;124m    CREATE TABLE `fla_species` (\u001b[39m\n\u001b[1;32m      5\u001b[0m \u001b[38;5;124m        `node_id` int(11) NOT NULL,\u001b[39m\n\u001b[0;32m   (...)\u001b[0m\n\u001b[1;32m      9\u001b[0m \u001b[38;5;124m    ENGINE=InnoDB DEFAULT CHARSET=utf8mb4 COLLATE=utf8mb4_bin;\u001b[39m\n\u001b[1;32m     10\u001b[0m \u001b[38;5;124m    \u001b[39m\u001b[38;5;124m\"\"\"\u001b[39m\n\u001b[0;32m---> 11\u001b[0m     cursor\u001b[38;5;241m.\u001b[39mexecute(sql)\n\u001b[1;32m     12\u001b[0m connection\u001b[38;5;241m.\u001b[39mcommit()\n",
      "File \u001b[0;32m/courses/PHYS7332.202610/shared/phys7332-env/lib/python3.11/site-packages/pymysql/cursors.py:153\u001b[0m, in \u001b[0;36mCursor.execute\u001b[0;34m(self, query, args)\u001b[0m\n\u001b[1;32m    149\u001b[0m     \u001b[38;5;28;01mpass\u001b[39;00m\n\u001b[1;32m    151\u001b[0m query \u001b[38;5;241m=\u001b[39m \u001b[38;5;28mself\u001b[39m\u001b[38;5;241m.\u001b[39mmogrify(query, args)\n\u001b[0;32m--> 153\u001b[0m result \u001b[38;5;241m=\u001b[39m \u001b[38;5;28mself\u001b[39m\u001b[38;5;241m.\u001b[39m_query(query)\n\u001b[1;32m    154\u001b[0m \u001b[38;5;28mself\u001b[39m\u001b[38;5;241m.\u001b[39m_executed \u001b[38;5;241m=\u001b[39m query\n\u001b[1;32m    155\u001b[0m \u001b[38;5;28;01mreturn\u001b[39;00m result\n",
      "File \u001b[0;32m/courses/PHYS7332.202610/shared/phys7332-env/lib/python3.11/site-packages/pymysql/cursors.py:322\u001b[0m, in \u001b[0;36mCursor._query\u001b[0;34m(self, q)\u001b[0m\n\u001b[1;32m    320\u001b[0m conn \u001b[38;5;241m=\u001b[39m \u001b[38;5;28mself\u001b[39m\u001b[38;5;241m.\u001b[39m_get_db()\n\u001b[1;32m    321\u001b[0m \u001b[38;5;28mself\u001b[39m\u001b[38;5;241m.\u001b[39m_clear_result()\n\u001b[0;32m--> 322\u001b[0m conn\u001b[38;5;241m.\u001b[39mquery(q)\n\u001b[1;32m    323\u001b[0m \u001b[38;5;28mself\u001b[39m\u001b[38;5;241m.\u001b[39m_do_get_result()\n\u001b[1;32m    324\u001b[0m \u001b[38;5;28;01mreturn\u001b[39;00m \u001b[38;5;28mself\u001b[39m\u001b[38;5;241m.\u001b[39mrowcount\n",
      "File \u001b[0;32m/courses/PHYS7332.202610/shared/phys7332-env/lib/python3.11/site-packages/pymysql/connections.py:563\u001b[0m, in \u001b[0;36mConnection.query\u001b[0;34m(self, sql, unbuffered)\u001b[0m\n\u001b[1;32m    561\u001b[0m     sql \u001b[38;5;241m=\u001b[39m sql\u001b[38;5;241m.\u001b[39mencode(\u001b[38;5;28mself\u001b[39m\u001b[38;5;241m.\u001b[39mencoding, \u001b[38;5;124m\"\u001b[39m\u001b[38;5;124msurrogateescape\u001b[39m\u001b[38;5;124m\"\u001b[39m)\n\u001b[1;32m    562\u001b[0m \u001b[38;5;28mself\u001b[39m\u001b[38;5;241m.\u001b[39m_execute_command(COMMAND\u001b[38;5;241m.\u001b[39mCOM_QUERY, sql)\n\u001b[0;32m--> 563\u001b[0m \u001b[38;5;28mself\u001b[39m\u001b[38;5;241m.\u001b[39m_affected_rows \u001b[38;5;241m=\u001b[39m \u001b[38;5;28mself\u001b[39m\u001b[38;5;241m.\u001b[39m_read_query_result(unbuffered\u001b[38;5;241m=\u001b[39munbuffered)\n\u001b[1;32m    564\u001b[0m \u001b[38;5;28;01mreturn\u001b[39;00m \u001b[38;5;28mself\u001b[39m\u001b[38;5;241m.\u001b[39m_affected_rows\n",
      "File \u001b[0;32m/courses/PHYS7332.202610/shared/phys7332-env/lib/python3.11/site-packages/pymysql/connections.py:825\u001b[0m, in \u001b[0;36mConnection._read_query_result\u001b[0;34m(self, unbuffered)\u001b[0m\n\u001b[1;32m    823\u001b[0m \u001b[38;5;28;01melse\u001b[39;00m:\n\u001b[1;32m    824\u001b[0m     result \u001b[38;5;241m=\u001b[39m MySQLResult(\u001b[38;5;28mself\u001b[39m)\n\u001b[0;32m--> 825\u001b[0m     result\u001b[38;5;241m.\u001b[39mread()\n\u001b[1;32m    826\u001b[0m \u001b[38;5;28mself\u001b[39m\u001b[38;5;241m.\u001b[39m_result \u001b[38;5;241m=\u001b[39m result\n\u001b[1;32m    827\u001b[0m \u001b[38;5;28;01mif\u001b[39;00m result\u001b[38;5;241m.\u001b[39mserver_status \u001b[38;5;129;01mis\u001b[39;00m \u001b[38;5;129;01mnot\u001b[39;00m \u001b[38;5;28;01mNone\u001b[39;00m:\n",
      "File \u001b[0;32m/courses/PHYS7332.202610/shared/phys7332-env/lib/python3.11/site-packages/pymysql/connections.py:1199\u001b[0m, in \u001b[0;36mMySQLResult.read\u001b[0;34m(self)\u001b[0m\n\u001b[1;32m   1197\u001b[0m \u001b[38;5;28;01mdef\u001b[39;00m\u001b[38;5;250m \u001b[39m\u001b[38;5;21mread\u001b[39m(\u001b[38;5;28mself\u001b[39m):\n\u001b[1;32m   1198\u001b[0m     \u001b[38;5;28;01mtry\u001b[39;00m:\n\u001b[0;32m-> 1199\u001b[0m         first_packet \u001b[38;5;241m=\u001b[39m \u001b[38;5;28mself\u001b[39m\u001b[38;5;241m.\u001b[39mconnection\u001b[38;5;241m.\u001b[39m_read_packet()\n\u001b[1;32m   1201\u001b[0m         \u001b[38;5;28;01mif\u001b[39;00m first_packet\u001b[38;5;241m.\u001b[39mis_ok_packet():\n\u001b[1;32m   1202\u001b[0m             \u001b[38;5;28mself\u001b[39m\u001b[38;5;241m.\u001b[39m_read_ok_packet(first_packet)\n",
      "File \u001b[0;32m/courses/PHYS7332.202610/shared/phys7332-env/lib/python3.11/site-packages/pymysql/connections.py:775\u001b[0m, in \u001b[0;36mConnection._read_packet\u001b[0;34m(self, packet_type)\u001b[0m\n\u001b[1;32m    773\u001b[0m     \u001b[38;5;28;01mif\u001b[39;00m \u001b[38;5;28mself\u001b[39m\u001b[38;5;241m.\u001b[39m_result \u001b[38;5;129;01mis\u001b[39;00m \u001b[38;5;129;01mnot\u001b[39;00m \u001b[38;5;28;01mNone\u001b[39;00m \u001b[38;5;129;01mand\u001b[39;00m \u001b[38;5;28mself\u001b[39m\u001b[38;5;241m.\u001b[39m_result\u001b[38;5;241m.\u001b[39munbuffered_active \u001b[38;5;129;01mis\u001b[39;00m \u001b[38;5;28;01mTrue\u001b[39;00m:\n\u001b[1;32m    774\u001b[0m         \u001b[38;5;28mself\u001b[39m\u001b[38;5;241m.\u001b[39m_result\u001b[38;5;241m.\u001b[39munbuffered_active \u001b[38;5;241m=\u001b[39m \u001b[38;5;28;01mFalse\u001b[39;00m\n\u001b[0;32m--> 775\u001b[0m     packet\u001b[38;5;241m.\u001b[39mraise_for_error()\n\u001b[1;32m    776\u001b[0m \u001b[38;5;28;01mreturn\u001b[39;00m packet\n",
      "File \u001b[0;32m/courses/PHYS7332.202610/shared/phys7332-env/lib/python3.11/site-packages/pymysql/protocol.py:219\u001b[0m, in \u001b[0;36mMysqlPacket.raise_for_error\u001b[0;34m(self)\u001b[0m\n\u001b[1;32m    217\u001b[0m \u001b[38;5;28;01mif\u001b[39;00m DEBUG:\n\u001b[1;32m    218\u001b[0m     \u001b[38;5;28mprint\u001b[39m(\u001b[38;5;124m\"\u001b[39m\u001b[38;5;124merrno =\u001b[39m\u001b[38;5;124m\"\u001b[39m, errno)\n\u001b[0;32m--> 219\u001b[0m err\u001b[38;5;241m.\u001b[39mraise_mysql_exception(\u001b[38;5;28mself\u001b[39m\u001b[38;5;241m.\u001b[39m_data)\n",
      "File \u001b[0;32m/courses/PHYS7332.202610/shared/phys7332-env/lib/python3.11/site-packages/pymysql/err.py:150\u001b[0m, in \u001b[0;36mraise_mysql_exception\u001b[0;34m(data)\u001b[0m\n\u001b[1;32m    148\u001b[0m \u001b[38;5;28;01mif\u001b[39;00m errorclass \u001b[38;5;129;01mis\u001b[39;00m \u001b[38;5;28;01mNone\u001b[39;00m:\n\u001b[1;32m    149\u001b[0m     errorclass \u001b[38;5;241m=\u001b[39m InternalError \u001b[38;5;28;01mif\u001b[39;00m errno \u001b[38;5;241m<\u001b[39m \u001b[38;5;241m1000\u001b[39m \u001b[38;5;28;01melse\u001b[39;00m OperationalError\n\u001b[0;32m--> 150\u001b[0m \u001b[38;5;28;01mraise\u001b[39;00m errorclass(errno, errval)\n",
      "\u001b[0;31mOperationalError\u001b[0m: (1050, \"Table 'fla_species' already exists\")"
     ]
    }
   ],
   "source": [
    "# creating FL bay species table\n",
    "with connection.cursor() as cursor:\n",
    "    sql = \"\"\"\n",
    "    CREATE TABLE `fla_species` (\n",
    "        `node_id` int(11) NOT NULL,\n",
    "        `name` varchar(255)  COLLATE utf8mb4_bin NOT NULL,\n",
    "        `my_group` varchar(255) COLLATE utf8mb4_bin NULL,\n",
    "    PRIMARY KEY (`node_id`))\n",
    "    ENGINE=InnoDB DEFAULT CHARSET=utf8mb4 COLLATE=utf8mb4_bin;\n",
    "    \"\"\"\n",
    "    cursor.execute(sql)\n",
    "connection.commit()"
   ]
  },
  {
   "cell_type": "code",
   "execution_count": 19,
   "id": "9a1ba255-a494-4d03-9bb0-df5f8417a203",
   "metadata": {},
   "outputs": [],
   "source": [
    "# populating FL bay species\n",
    "df1 = pd.read_csv('./data/Florida-bay-meta.csv')\n",
    "insert_sql = \"\"\"\n",
    "INSERT INTO `fla_species` (node_id, name, my_group) \n",
    "values (%s, %s, %s);\n",
    "\"\"\"\n",
    "for _, row in df1.iterrows():\n",
    "    sp_name = row['name']\n",
    "    node_id = row['node_id']\n",
    "    if row['group'] == row['group']:\n",
    "        group = row['group']\n",
    "    else:\n",
    "        group = 'NULL'\n",
    "    with connection.cursor() as cursor:\n",
    "        cursor.execute(insert_sql, (node_id, sp_name, group))\n",
    "connection.commit()"
   ]
  },
  {
   "cell_type": "code",
   "execution_count": 37,
   "id": "25a5814d-4bc1-46b8-83ae-be252567b7a3",
   "metadata": {},
   "outputs": [],
   "source": [
    "# creating food web table\n",
    "with connection.cursor() as cursor:\n",
    "    # sql = \"\"\"DROP TABLE `fla_foodweb`;\"\"\"\n",
    "    # cursor.execute(sql)\n",
    "    sql = \"\"\"\n",
    "    CREATE TABLE `fla_foodweb` (\n",
    "        `RowId` int(11) NOT NULL,\n",
    "        `FromNodeId` int(11) NOT NULL,\n",
    "        `ToNodeId` int(11)  NOT NULL,\n",
    "    PRIMARY KEY (`RowId`))\n",
    "    ENGINE=InnoDB DEFAULT CHARSET=utf8mb4 COLLATE=utf8mb4_bin;\n",
    "    \"\"\"\n",
    "    cursor.execute(sql)\n",
    "connection.commit()"
   ]
  },
  {
   "cell_type": "code",
   "execution_count": 38,
   "id": "51f22d9a-d193-45d4-8801-c2efeaacd3cb",
   "metadata": {},
   "outputs": [],
   "source": [
    "# populating food web table\n",
    "df2 = pd.read_csv('data/Florida-bay.txt', sep=' ', header=4)\n",
    "df2.columns = ['FromNodeId', 'ToNodeId', 'Extra']\n",
    "insert_sql = \"\"\"\n",
    "INSERT INTO `fla_foodweb` (RowId, FromNodeId, ToNodeId) \n",
    "values (%s, %s, %s);\n",
    "\"\"\"\n",
    "for idx, row in df2.iterrows():\n",
    "    row_id = idx\n",
    "    from_node_id = row['FromNodeId']\n",
    "    to_node_id = row['ToNodeId']\n",
    "    with connection.cursor() as cursor:\n",
    "        cursor.execute(insert_sql, (row_id, from_node_id, to_node_id))\n",
    "connection.commit()"
   ]
  },
  {
   "cell_type": "code",
   "execution_count": 45,
   "id": "e849ede0-8bd0-4ec3-af5e-adaf064aff43",
   "metadata": {},
   "outputs": [],
   "source": [
    "df_body = pd.read_csv('../data_not_in_git/soc-redditHyperlinks-body.tsv', sep='\\t')\n",
    "df_head = pd.read_csv('../data_not_in_git/soc-redditHyperlinks-title.tsv', sep='\\t')"
   ]
  },
  {
   "cell_type": "code",
   "execution_count": 65,
   "id": "a0d09274-fa52-4db2-a166-eca8254829be",
   "metadata": {},
   "outputs": [],
   "source": [
    "from sqlalchemy import create_engine\n",
    "\n",
    "my_creds = []\n",
    "with open('../../../staff/admin_mysql_credentials.txt', 'r') as f:\n",
    "    for line in f.readlines():\n",
    "        my_creds.append(line.strip())\n",
    "\n",
    "hostname=\"mysql-0005\"\n",
    "dbname=\"PHYS7332\"\n",
    "uname=my_creds[0]\n",
    "pwd=my_creds[1]\n",
    "\n",
    "engine = create_engine(\"mysql+pymysql://{user}:{pw}@{host}/{db}\"\n",
    "                           .format(host=hostname, db=dbname,\n",
    "                                   user=uname,pw=pwd),\n",
    "                      connect_args={'connect_timeout': 100},\n",
    "                       pool_pre_ping=True)"
   ]
  },
  {
   "cell_type": "code",
   "execution_count": 66,
   "id": "81e4a1e0-646a-4f6a-8184-5c9680bbef85",
   "metadata": {},
   "outputs": [],
   "source": [
    "df_body['link_source'] = 'body'\n",
    "df_head['link_source'] = 'title'\n",
    "df_both = pd.concat([df_body, df_head])"
   ]
  },
  {
   "cell_type": "code",
   "execution_count": 69,
   "id": "0ab45bab-2b1f-49b2-b2f4-f1ad96b485f7",
   "metadata": {},
   "outputs": [],
   "source": [
    "with engine.connect() as conn:\n",
    "    ix = 0\n",
    "    while ix < len(df_both):\n",
    "        tran = conn.begin()\n",
    "        try:\n",
    "            df_both[[\n",
    "                'SOURCE_SUBREDDIT', \n",
    "                'TARGET_SUBREDDIT', \n",
    "                'POST_ID', \n",
    "                'TIMESTAMP', \n",
    "                'LINK_SENTIMENT', \n",
    "                'link_source']\n",
    "            ].iloc[ix: ix + 100].to_sql('reddit_hyperlinks', conn, if_exists='append')\n",
    "            tran.commit()\n",
    "            ix += 100\n",
    "        except Exception as e:\n",
    "            print(e)\n",
    "            tran.rollback()\n",
    "    "
   ]
  },
  {
   "cell_type": "code",
   "execution_count": null,
   "id": "91c4d385-a846-4f64-989c-efe6da139f64",
   "metadata": {},
   "outputs": [],
   "source": []
  }
 ],
 "metadata": {
  "kernelspec": {
   "display_name": "Python 3 (ipykernel)",
   "language": "python",
   "name": "python3"
  },
  "language_info": {
   "codemirror_mode": {
    "name": "ipython",
    "version": 3
   },
   "file_extension": ".py",
   "mimetype": "text/x-python",
   "name": "python",
   "nbconvert_exporter": "python",
   "pygments_lexer": "ipython3",
   "version": "3.11.13"
  }
 },
 "nbformat": 4,
 "nbformat_minor": 5
}
